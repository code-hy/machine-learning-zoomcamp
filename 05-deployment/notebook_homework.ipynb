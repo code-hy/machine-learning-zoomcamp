{
 "cells": [
  {
   "cell_type": "markdown",
   "id": "cf843661-4d17-4589-9933-cb35cdf7a3d6",
   "metadata": {},
   "source": [
    "Homework 5 - Model Deployment\n"
   ]
  },
  {
   "cell_type": "markdown",
   "id": "fc03f44b-bfb7-48d2-9f16-0906c460139d",
   "metadata": {},
   "source": [
    "Question 1: Install uv"
   ]
  },
  {
   "cell_type": "markdown",
   "id": "3d9d6c65-b7b4-4c2b-9e6f-0714cd7956f2",
   "metadata": {},
   "source": [
    "pip install uv"
   ]
  },
  {
   "cell_type": "code",
   "execution_count": 8,
   "id": "28144fd3-fe4d-4d8f-9b7b-e21ff50e53ee",
   "metadata": {},
   "outputs": [
    {
     "name": "stdout",
     "output_type": "stream",
     "text": [
      "uv 0.9.6\n"
     ]
    }
   ],
   "source": [
    "%%bash\n",
    "uv --version"
   ]
  },
  {
   "cell_type": "markdown",
   "id": "2dd86779-d4cf-4f7d-a81c-23211565d481",
   "metadata": {},
   "source": [
    "Question 1: Answer is 0.9.6 \n",
    "\n"
   ]
  },
  {
   "cell_type": "markdown",
   "id": "9860590d-fc8a-4c4d-976e-0bb3c6e3563e",
   "metadata": {},
   "source": [
    "Install Scikit-Learn with UV\n",
    "What's the first hash for Scikit-Learn you get in the lock file?\n",
    "Include the entire string starting with sha256:, don't include quotes.\n",
    "\n"
   ]
  },
  {
   "cell_type": "code",
   "execution_count": 10,
   "id": "76f346dd-ab69-47f5-9a0a-6de2963c3b8a",
   "metadata": {},
   "outputs": [
    {
     "name": "stdout",
     "output_type": "stream",
     "text": [
      "/workspaces/machine-learning-zoomcamp/05-deployment/homework_folder\n",
      "Initialized project `\u001b[36mhomework-folder\u001b[39m`\n",
      "Using CPython \u001b[36m3.13.9\u001b[39m\n",
      "Creating virtual environment at: \u001b[36m.venv\u001b[39m\n",
      "\u001b[2K\u001b[2mResolved \u001b[1m6 packages\u001b[0m \u001b[2min 445ms\u001b[0m\u001b[0m                                         \u001b[0m\n",
      "\u001b[2K\u001b[2mPrepared \u001b[1m4 packages\u001b[0m \u001b[2min 1.09s\u001b[0m\u001b[0m                                             \n",
      "\u001b[2K░░░░░░░░░░░░░░░░░░░░ [0/5] \u001b[2mInstalling wheels...                                 \u001b[0m\u001b[1m\u001b[33mwarning\u001b[39m\u001b[0m\u001b[1m:\u001b[0m \u001b[1mFailed to hardlink files; falling back to full copy. This may lead to degraded performance.\n",
      "         If the cache and target directories are on different filesystems, hardlinking may not be supported.\n",
      "         If this is intentional, set `export UV_LINK_MODE=copy` or use `--link-mode=copy` to suppress this warning.\u001b[0m\n",
      "\u001b[2K\u001b[2mInstalled \u001b[1m5 packages\u001b[0m \u001b[2min 614ms\u001b[0m\u001b[0m                               \u001b[0m\n",
      " \u001b[32m+\u001b[39m \u001b[1mjoblib\u001b[0m\u001b[2m==1.5.2\u001b[0m\n",
      " \u001b[32m+\u001b[39m \u001b[1mnumpy\u001b[0m\u001b[2m==2.3.4\u001b[0m\n",
      " \u001b[32m+\u001b[39m \u001b[1mscikit-learn\u001b[0m\u001b[2m==1.6.1\u001b[0m\n",
      " \u001b[32m+\u001b[39m \u001b[1mscipy\u001b[0m\u001b[2m==1.16.3\u001b[0m\n",
      " \u001b[32m+\u001b[39m \u001b[1mthreadpoolctl\u001b[0m\u001b[2m==3.6.0\u001b[0m\n",
      "sdist = { url = \"https://files.pythonhosted.org/packages/e8/5d/447af5ea094b9e4c4054f82e223ada074c552335b9b4b2d14bd9b35a67c4/joblib-1.5.2.tar.gz\", hash = \"sha256:3faa5c39054b2f03ca547da9b2f52fde67c06240c31853f306aea97f13647b55\", size = 331077, upload-time = \"2025-08-27T12:15:46.575Z\" }\n",
      "    { url = \"https://files.pythonhosted.org/packages/1e/e8/685f47e0d754320684db4425a0967f7d3fa70126bffd76110b7009a0090f/joblib-1.5.2-py3-none-any.whl\", hash = \"sha256:4e1f0bdbb987e6d843c70cf43714cb276623def372df3c22fe5266b2670bc241\", size = 308396, upload-time = \"2025-08-27T12:15:45.188Z\" },\n",
      "sdist = { url = \"https://files.pythonhosted.org/packages/9e/a5/4ae3b3a0755f7b35a280ac90b28817d1f380318973cff14075ab41ef50d9/scikit_learn-1.6.1.tar.gz\", hash = \"sha256:b4fc2525eca2c69a59260f583c56a7557c6ccdf8deafdba6e060f94c1c59738e\", size = 7068312, upload-time = \"2025-01-10T08:07:55.348Z\" }\n"
     ]
    }
   ],
   "source": [
    "# Initialize an empty uv project\n",
    "!mkdir homework_folder\n",
    "%cd homework_folder\n",
    "!uv init\n",
    "\n",
    "# Install Scikit-Learn version 1.6.1\n",
    "!uv add scikit-learn==1.6.1\n",
    "\n",
    "# Check the lock file for the hash\n",
    "!cat uv.lock | grep -A 10 \"scikit-learn\" | grep \"sha256\""
   ]
  },
  {
   "cell_type": "markdown",
   "id": "9a324b90-cec3-4621-bb87-d3428063359e",
   "metadata": {},
   "source": [
    "sha256:b4fc2525eca2c69a59260f583c56a7557c6ccdf8deafdba6e060f94c1c59738e"
   ]
  },
  {
   "cell_type": "markdown",
   "id": "d425e93e-ba77-41c1-be46-96ba81cd4e96",
   "metadata": {},
   "source": [
    "Question 3: Load the Pipeline with pickle , score the record, and then what is probability that this lead will convert\n"
   ]
  },
  {
   "cell_type": "code",
   "execution_count": 11,
   "id": "ef23f65b-3ad0-4f97-a61c-f875aff1d3a9",
   "metadata": {},
   "outputs": [
    {
     "name": "stdout",
     "output_type": "stream",
     "text": [
      "--2025-10-30 03:27:26--  https://github.com/DataTalksClub/machine-learning-zoomcamp/raw/refs/heads/master/cohorts/2025/05-deployment/pipeline_v1.bin\n",
      "Resolving github.com (github.com)... 4.237.22.38\n",
      "Connecting to github.com (github.com)|4.237.22.38|:443... connected.\n",
      "HTTP request sent, awaiting response... 302 Found\n",
      "Location: https://raw.githubusercontent.com/DataTalksClub/machine-learning-zoomcamp/refs/heads/master/cohorts/2025/05-deployment/pipeline_v1.bin [following]\n",
      "--2025-10-30 03:27:27--  https://raw.githubusercontent.com/DataTalksClub/machine-learning-zoomcamp/refs/heads/master/cohorts/2025/05-deployment/pipeline_v1.bin\n",
      "Resolving raw.githubusercontent.com (raw.githubusercontent.com)... 185.199.108.133, 185.199.109.133, 185.199.110.133, ...\n",
      "Connecting to raw.githubusercontent.com (raw.githubusercontent.com)|185.199.108.133|:443... connected.\n",
      "HTTP request sent, awaiting response... 200 OK\n",
      "Length: 1300 (1.3K) [application/octet-stream]\n",
      "Saving to: ‘pipeline_v1.bin’\n",
      "\n",
      "pipeline_v1.bin     100%[===================>]   1.27K  --.-KB/s    in 0s      \n",
      "\n",
      "2025-10-30 03:27:27 (65.1 MB/s) - ‘pipeline_v1.bin’ saved [1300/1300]\n",
      "\n",
      "7d17d2e4dfbaf1e408e1a62e6e880d49  pipeline_v1.bin\n",
      "Probability that this lead will convert: 0.534\n",
      "Closest option: 0.533\n"
     ]
    },
    {
     "name": "stderr",
     "output_type": "stream",
     "text": [
      "/home/codespace/.local/lib/python3.12/site-packages/sklearn/base.py:440: InconsistentVersionWarning: Trying to unpickle estimator DictVectorizer from version 1.6.1 when using version 1.7.0. This might lead to breaking code or invalid results. Use at your own risk. For more info please refer to:\n",
      "https://scikit-learn.org/stable/model_persistence.html#security-maintainability-limitations\n",
      "  warnings.warn(\n",
      "/home/codespace/.local/lib/python3.12/site-packages/sklearn/base.py:440: InconsistentVersionWarning: Trying to unpickle estimator LogisticRegression from version 1.6.1 when using version 1.7.0. This might lead to breaking code or invalid results. Use at your own risk. For more info please refer to:\n",
      "https://scikit-learn.org/stable/model_persistence.html#security-maintainability-limitations\n",
      "  warnings.warn(\n",
      "/home/codespace/.local/lib/python3.12/site-packages/sklearn/base.py:440: InconsistentVersionWarning: Trying to unpickle estimator Pipeline from version 1.6.1 when using version 1.7.0. This might lead to breaking code or invalid results. Use at your own risk. For more info please refer to:\n",
      "https://scikit-learn.org/stable/model_persistence.html#security-maintainability-limitations\n",
      "  warnings.warn(\n"
     ]
    }
   ],
   "source": [
    "import pickle\n",
    "import requests\n",
    "\n",
    "# Download the model\n",
    "!wget https://github.com/DataTalksClub/machine-learning-zoomcamp/raw/refs/heads/master/cohorts/2025/05-deployment/pipeline_v1.bin\n",
    "\n",
    "# Verify checksum\n",
    "!md5sum pipeline_v1.bin\n",
    "\n",
    "# Load the model\n",
    "with open('pipeline_v1.bin', 'rb') as f_in:\n",
    "    pipeline = pickle.load(f_in)\n",
    "\n",
    "# Score the record\n",
    "client = {\n",
    "    \"lead_source\": \"paid_ads\",\n",
    "    \"number_of_courses_viewed\": 2,\n",
    "    \"annual_income\": 79276.0\n",
    "}\n",
    "\n",
    "# Convert to dictionary format\n",
    "client_dict = [client]\n",
    "\n",
    "# Make prediction\n",
    "prediction = pipeline.predict_proba(client_dict)[0, 1]\n",
    "print(f\"Probability that this lead will convert: {prediction:.3f}\")\n",
    "\n",
    "# Check which option is closest\n",
    "options = [0.333, 0.533, 0.733, 0.933]\n",
    "closest = min(options, key=lambda x: abs(x - prediction))\n",
    "print(f\"Closest option: {closest}\")"
   ]
  },
  {
   "cell_type": "markdown",
   "id": "a16b0237-565b-441b-80fe-4236aca2b27d",
   "metadata": {},
   "source": [
    "Probability that this will convert is 0.534.... the closest available option from list is 0.533\n",
    "\n"
   ]
  },
  {
   "cell_type": "markdown",
   "id": "4c95763f-1e9f-4370-91bd-1cfc4a6798be",
   "metadata": {},
   "source": [
    "Question 4:  FastAPI for webservice, what is probability that client will get a subscription\n"
   ]
  },
  {
   "cell_type": "code",
   "execution_count": 18,
   "id": "b1308aee-d31b-420e-ba9b-31f9dc57342b",
   "metadata": {},
   "outputs": [
    {
     "name": "stdout",
     "output_type": "stream",
     "text": [
      "\u001b[2mResolved \u001b[1m21 packages\u001b[0m \u001b[2min 0.66ms\u001b[0m\u001b[0m\n",
      "\u001b[2mAudited \u001b[1m19 packages\u001b[0m \u001b[2min 0.25ms\u001b[0m\u001b[0m\n",
      "FastAPI application code saved to app.py\n",
      "To run the service, use: uvicorn app:app --host 0.0.0.0 --port 8000\n"
     ]
    }
   ],
   "source": [
    "# Install FastAPI\n",
    "!uv add fastapi uvicorn\n",
    "\n",
    "# Create a file for the FastAPI app\n",
    "app_code = '''\n",
    "from fastapi import FastAPI\n",
    "from pydantic import BaseModel\n",
    "import pickle\n",
    "import uvicorn\n",
    "\n",
    "\n",
    "\n",
    "\n",
    "\n",
    "# Load the model\n",
    "with open('pipeline_v1.bin', 'rb') as f_in:\n",
    "    pipeline = pickle.load(f_in)\n",
    "\n",
    "#Create FASTAPI app\n",
    "app = FASTAPI()\n",
    "\n",
    "class Lead(BaseModel):\n",
    "    lead_source:str\n",
    "    number_of_courses_viewed: int\n",
    "    annual_income: float\n",
    "\n",
    "    \n",
    "@app.post('/predict')\n",
    "def predict(client: dict):\n",
    "    # Convert the client data to a dictionary\n",
    "    client_dict = [client]\n",
    "    \n",
    "    # Make a prediction\n",
    "    prediction = pipeline.predict_proba(client_dict)[0, 1]\n",
    "    \n",
    "    return {\"prediction\": prediction}\n",
    "\n",
    "if __name__ == \"__main__\":\n",
    "    uvicorn.run(app, host=\"0.0.0.0\", port=8000)\n",
    "'''\n",
    "\n",
    "with open('app.py', 'w') as f:\n",
    "    f.write(app_code)\n",
    "\n",
    "# Run the FastAPI app (in a separate terminal)\n",
    "# Command: uvicorn app:app --host 0.0.0.0 --port 8000\n",
    "print(\"FastAPI application code saved to app.py\")\n",
    "print(\"To run the service, use: uvicorn app:app --host 0.0.0.0 --port 8000\")\n"
   ]
  },
  {
   "cell_type": "code",
   "execution_count": null,
   "id": "e08207d4-b68f-4361-99e5-23a908743f99",
   "metadata": {},
   "outputs": [],
   "source": []
  },
  {
   "cell_type": "code",
   "execution_count": 23,
   "id": "3aac14e6-5f87-4b4f-83aa-fddada689730",
   "metadata": {},
   "outputs": [
    {
     "name": "stdout",
     "output_type": "stream",
     "text": [
      "Client data: {'lead_source': 'organic_search', 'number_of_courses_viewed': 4, 'annual_income': 80304.0}\n",
      "Probability of conversion: 0.534\n",
      "Closest option: 0.534\n"
     ]
    }
   ],
   "source": [
    "client = {\n",
    "    \"lead_source\": \"organic_search\",\n",
    "    \"number_of_courses_viewed\": 4,\n",
    "    \"annual_income\": 80304.0\n",
    "}\n",
    "try:\n",
    "    # make prediction using the same pipeline\n",
    "    prediction = pipeline.predict_proba([client])[0][1]\n",
    "\n",
    "    print(f\"Client data: {client_data}\")\n",
    "    print(f\"Probability of conversion: {probability:.3f}\")\n",
    "\n",
    "    # Check which option is closest\n",
    "    options = [0.334, 0.534, 0.734, 0.934]\n",
    "    closest = min(options, key=lambda x: abs(x - prediction))\n",
    "    print(f\"Closest option: {closest}\")\n",
    "except Exception as e:\n",
    "    print(f\"Error making prediction: {e}\")\n",
    "    \n"
   ]
  },
  {
   "cell_type": "markdown",
   "id": "0315fb4f-9ffe-4364-87df-237df3e99aef",
   "metadata": {},
   "source": [
    "Answer Question 4:  0.534\n"
   ]
  },
  {
   "cell_type": "markdown",
   "id": "9bb99f60-404d-4952-af08-6f548f0a5f73",
   "metadata": {},
   "source": [
    "Question 5: Install docker, - use it for the next two questions: \n",
    "Download the base image agrigorev/zoomcamp-model:2025.  What is the size of base image (45mb, 121mb ,245mb or 330mb)  get information using docker images it will be in the size column.\n",
    "\n"
   ]
  },
  {
   "cell_type": "code",
   "execution_count": 24,
   "id": "70060db1-3fc5-4eae-b08c-867394f58b73",
   "metadata": {},
   "outputs": [
    {
     "name": "stdout",
     "output_type": "stream",
     "text": [
      "2025: Pulling from agrigorev/zoomcamp-model\n",
      "\n",
      "\u001b[1B2667830b: Already exists \n",
      "\u001b[1B1082f6f0: Already exists \n",
      "\u001b[1Bf5177ae2: Already exists \n",
      "\u001b[1B357cf7a1: Already exists \n",
      "\u001b[1B2b9cc6ee: Pulling fs layer \n",
      "\u001b[1BDigest: sha256:14d79fde0bbf078eb18c99c2bd007205917b758ec11060b2994963a1e485c2ae\n",
      "Status: Downloaded newer image for agrigorev/zoomcamp-model:2025\n",
      "docker.io/agrigorev/zoomcamp-model:2025\n",
      "agrigorev/zoomcamp-model   2025      4a9ecc576ae9   8 days ago    121MB\n"
     ]
    }
   ],
   "source": [
    "#  pull the docker image\n",
    "!docker pull agrigorev/zoomcamp-model:2025\n",
    "\n",
    "# check the image size\n",
    "!docker images | grep \"zoomcamp-model\" "
   ]
  },
  {
   "cell_type": "markdown",
   "id": "6a1ddebc-3f2a-4c99-8a47-e1a4d40ce522",
   "metadata": {},
   "source": [
    "Answer Question 5:  the size is showing as 121mb "
   ]
  },
  {
   "cell_type": "code",
   "execution_count": null,
   "id": "169947af-5be7-47bf-a3b8-f0a382005ce9",
   "metadata": {},
   "outputs": [],
   "source": []
  },
  {
   "cell_type": "code",
   "execution_count": 31,
   "id": "b88a72ff-66d4-4fdb-8459-971e083dfeb8",
   "metadata": {},
   "outputs": [
    {
     "name": "stdout",
     "output_type": "stream",
     "text": [
      "creating dockerfile\n",
      "Dockerfile created successfully!\n",
      "\n",
      "To build and run the Docker container:\n",
      "1. docker build -t lead-scoring-app .\n",
      "2. docker run -p 8000:8000 lead-scoring-app\n",
      "\n",
      "Then test with the same client data from Question 4\n"
     ]
    }
   ],
   "source": [
    "# Create a Dockerfile\n",
    "print(\"creating dockerfile\")\n",
    "dockerfile = \"\"\"\n",
    "# Install uv\n",
    "COPY --from=ghcr.io/astral-sh/uv:latest /uv /bin/uv\n",
    "\n",
    "# Set working directory\n",
    "WORKDIR /app\n",
    "\n",
    "# Copy project files\n",
    "COPY pyproject.toml .\n",
    "COPY uv.lock .\n",
    "\n",
    "# Install dependencies\n",
    "RUN uv sync --frozen\n",
    "\n",
    "# Copy application files\n",
    "COPY app.py .\n",
    "\n",
    "# Expose port\n",
    "EXPOSE 8000\n",
    "\n",
    "# Run the application\n",
    "CMD [\"uv\", \"run\", \"uvicorn\", \"app:app\", \"--host\", \"0.0.0.0\", \"--port\", \"8000\"]\n",
    "\"\"\"\n",
    "\n",
    "with open('Dockerfile', 'w') as f:\n",
    "    f.write(dockerfile)\n",
    "\n",
    "print(\"Dockerfile created successfully!\")\n",
    "print()\n",
    "print(\"To build and run the Docker container:\")\n",
    "print(\"1. docker build -t lead-scoring-app .\")\n",
    "print(\"2. docker run -p 8000:8000 lead-scoring-app\")\n",
    "print()\n",
    "print(\"Then test with the same client data from Question 4\")\n",
    "# Build the Docker image\n",
    "\n"
   ]
  },
  {
   "cell_type": "code",
   "execution_count": 29,
   "id": "f68d22db-6b4a-4967-a707-29ccf2132706",
   "metadata": {},
   "outputs": [
    {
     "name": "stdout",
     "output_type": "stream",
     "text": [
      "hello world\n"
     ]
    }
   ],
   "source": [
    "print('hello world')"
   ]
  },
  {
   "cell_type": "code",
   "execution_count": 41,
   "id": "2c99fb23-98ba-4bf9-8a1f-da73de6141fb",
   "metadata": {},
   "outputs": [
    {
     "name": "stdout",
     "output_type": "stream",
     "text": [
      "Important Note:\n",
      "The Docker base image 'agrigorev/zoomcamp-model:2025' contains pipeline_v2.bin\n",
      "This is a different model than pipeline_v1.bin used in Questions 3 and 4\n",
      "Therefore, we expect different prediction results for the same input data\n",
      "\n",
      "Test request code:\n",
      "\n",
      "import requests\n",
      "\n",
      "url = \"http://localhost:8000/predict\"\n",
      "client = {\n",
      "    \"lead_source\": \"organic_search\",\n",
      "    \"number_of_courses_viewed\": 4,\n",
      "    \"annual_income\": 80304.0\n",
      "}\n",
      "\n",
      "response = requests.post(url, json=client)\n",
      "result = response.json()\n",
      "print(f\"Probability: {result['probability']:.3f}\")\n",
      "\n"
     ]
    }
   ],
   "source": [
    "# Note: The Docker container will use pipeline_v2.bin (which is different from pipeline_v1.bin)\n",
    "# This explains why we might get a different prediction result in Question 6\n",
    "\n",
    "print(\"Important Note:\")\n",
    "print(\"The Docker base image 'agrigorev/zoomcamp-model:2025' contains pipeline_v2.bin\")\n",
    "print(\"This is a different model than pipeline_v1.bin used in Questions 3 and 4\")\n",
    "print(\"Therefore, we expect different prediction results for the same input data\")\n",
    "print()\n",
    "\n",
    "# For testing purposes, let's show what the request would look like\n",
    "test_request = '''\n",
    "import requests\n",
    "\n",
    "url = \"http://localhost:8000/predict\"\n",
    "client = {\n",
    "    \"lead_source\": \"organic_search\",\n",
    "    \"number_of_courses_viewed\": 4,\n",
    "    \"annual_income\": 80304.0\n",
    "}\n",
    "\n",
    "response = requests.post(url, json=client)\n",
    "result = response.json()\n",
    "print(f\"Probability: {result['probability']:.3f}\")\n",
    "'''\n",
    "\n",
    "print(\"Test request code:\")\n",
    "print(test_request)"
   ]
  },
  {
   "cell_type": "code",
   "execution_count": 38,
   "id": "af53696a-4565-45a0-9ecc-84b8ab228882",
   "metadata": {},
   "outputs": [
    {
     "name": "stdout",
     "output_type": "stream",
     "text": [
      "ERROR: docker: 'docker buildx build' requires 1 argument\n",
      "\n",
      "Usage:  docker buildx build [OPTIONS] PATH | URL | -\n",
      "\n",
      "Run 'docker buildx build --help' for more information\n"
     ]
    }
   ],
   "source": [
    "!docker build -t lead-scoring-app"
   ]
  },
  {
   "cell_type": "code",
   "execution_count": 39,
   "id": "adfa4b4f-ddf6-4407-82a4-fdcef371d3f0",
   "metadata": {},
   "outputs": [
    {
     "ename": "SyntaxError",
     "evalue": "invalid syntax (1226635584.py, line 1)",
     "output_type": "error",
     "traceback": [
      "  \u001b[36mCell\u001b[39m\u001b[36m \u001b[39m\u001b[32mIn[39]\u001b[39m\u001b[32m, line 1\u001b[39m\n\u001b[31m    \u001b[39m\u001b[31mdocker build -t lead-scoring-app\u001b[39m\n           ^\n\u001b[31mSyntaxError\u001b[39m\u001b[31m:\u001b[39m invalid syntax\n"
     ]
    }
   ],
   "source": [
    "docker build -t lead-scoring-app"
   ]
  },
  {
   "cell_type": "code",
   "execution_count": 40,
   "id": "8a6bd337-a447-4ce9-9133-de72b1e0df6b",
   "metadata": {},
   "outputs": [
    {
     "name": "stdout",
     "output_type": "stream",
     "text": [
      "ERROR: docker: 'docker buildx build' requires 1 argument\n",
      "\n",
      "Usage:  docker buildx build [OPTIONS] PATH | URL | -\n",
      "\n",
      "Run 'docker buildx build --help' for more information\n"
     ]
    }
   ],
   "source": [
    "!docker build -t lead-scoring-app \n"
   ]
  },
  {
   "cell_type": "code",
   "execution_count": 36,
   "id": "721abb5f-a2c6-4f8e-8caf-da98683b55d0",
   "metadata": {},
   "outputs": [
    {
     "name": "stdout",
     "output_type": "stream",
     "text": [
      "ERROR: docker: 'docker buildx build' requires 1 argument\n",
      "\n",
      "Usage:  docker buildx build [OPTIONS] PATH | URL | -\n",
      "\n",
      "Run 'docker buildx build --help' for more information\n",
      "Traceback (most recent call last):\n",
      "  File \"/usr/local/bin/uvicorn\", line 8, in <module>\n",
      "    sys.exit(main())\n",
      "             ~~~~^^\n",
      "  File \"/usr/local/lib/python3.13/site-packages/click/core.py\", line 1462, in __call__\n",
      "    return self.main(*args, **kwargs)\n",
      "           ~~~~~~~~~^^^^^^^^^^^^^^^^^\n",
      "  File \"/usr/local/lib/python3.13/site-packages/click/core.py\", line 1383, in main\n",
      "    rv = self.invoke(ctx)\n",
      "  File \"/usr/local/lib/python3.13/site-packages/click/core.py\", line 1246, in invoke\n",
      "    return ctx.invoke(self.callback, **ctx.params)\n",
      "           ~~~~~~~~~~^^^^^^^^^^^^^^^^^^^^^^^^^^^^^\n",
      "  File \"/usr/local/lib/python3.13/site-packages/click/core.py\", line 814, in invoke\n",
      "    return callback(*args, **kwargs)\n",
      "  File \"/usr/local/lib/python3.13/site-packages/uvicorn/main.py\", line 423, in main\n",
      "    run(\n",
      "    ~~~^\n",
      "        app,\n",
      "        ^^^^\n",
      "    ...<46 lines>...\n",
      "        h11_max_incomplete_event_size=h11_max_incomplete_event_size,\n",
      "        ^^^^^^^^^^^^^^^^^^^^^^^^^^^^^^^^^^^^^^^^^^^^^^^^^^^^^^^^^^^^\n",
      "    )\n",
      "    ^\n",
      "  File \"/usr/local/lib/python3.13/site-packages/uvicorn/main.py\", line 593, in run\n",
      "    server.run()\n",
      "    ~~~~~~~~~~^^\n",
      "  File \"/usr/local/lib/python3.13/site-packages/uvicorn/server.py\", line 67, in run\n",
      "    return asyncio_run(self.serve(sockets=sockets), loop_factory=self.config.get_loop_factory())\n",
      "  File \"/usr/local/lib/python3.13/asyncio/runners.py\", line 195, in run\n",
      "    return runner.run(main)\n",
      "           ~~~~~~~~~~^^^^^^\n",
      "  File \"/usr/local/lib/python3.13/asyncio/runners.py\", line 118, in run\n",
      "    return self._loop.run_until_complete(task)\n",
      "           ~~~~~~~~~~~~~~~~~~~~~~~~~~~~~^^^^^^\n",
      "  File \"/usr/local/lib/python3.13/asyncio/base_events.py\", line 725, in run_until_complete\n",
      "    return future.result()\n",
      "           ~~~~~~~~~~~~~^^\n",
      "  File \"/usr/local/lib/python3.13/site-packages/uvicorn/server.py\", line 71, in serve\n",
      "    await self._serve(sockets)\n",
      "  File \"/usr/local/lib/python3.13/site-packages/uvicorn/server.py\", line 78, in _serve\n",
      "    config.load()\n",
      "    ~~~~~~~~~~~^^\n",
      "  File \"/usr/local/lib/python3.13/site-packages/uvicorn/config.py\", line 439, in load\n",
      "    self.loaded_app = import_from_string(self.app)\n",
      "                      ~~~~~~~~~~~~~~~~~~^^^^^^^^^^\n",
      "  File \"/usr/local/lib/python3.13/site-packages/uvicorn/importer.py\", line 19, in import_from_string\n",
      "    module = importlib.import_module(module_str)\n",
      "  File \"/usr/local/lib/python3.13/importlib/__init__.py\", line 88, in import_module\n",
      "    return _bootstrap._gcd_import(name[level:], package, level)\n",
      "           ~~~~~~~~~~~~~~~~~~~~~~^^^^^^^^^^^^^^^^^^^^^^^^^^^^^^\n",
      "  File \"<frozen importlib._bootstrap>\", line 1387, in _gcd_import\n",
      "  File \"<frozen importlib._bootstrap>\", line 1360, in _find_and_load\n",
      "  File \"<frozen importlib._bootstrap>\", line 1331, in _find_and_load_unlocked\n",
      "  File \"<frozen importlib._bootstrap>\", line 935, in _load_unlocked\n",
      "  File \"<frozen importlib._bootstrap_external>\", line 1026, in exec_module\n",
      "  File \"<frozen importlib._bootstrap>\", line 488, in _call_with_frames_removed\n",
      "  File \"/code/app.py\", line 12, in <module>\n",
      "    with open('pipeline_v1.bin', 'rb') as f_in:\n",
      "         ~~~~^^^^^^^^^^^^^^^^^^^^^^^^^\n",
      "FileNotFoundError: [Errno 2] No such file or directory: 'pipeline_v1.bin'\n"
     ]
    }
   ],
   "source": [
    "!docker build -t lead-scoring-app\n",
    "!docker run -p 8000:8000 lead-scoring-app"
   ]
  },
  {
   "cell_type": "code",
   "execution_count": null,
   "id": "168accff-8fbb-48bc-bb13-284395679feb",
   "metadata": {},
   "outputs": [],
   "source": []
  }
 ],
 "metadata": {
  "kernelspec": {
   "display_name": "Python 3 (ipykernel)",
   "language": "python",
   "name": "python3"
  },
  "language_info": {
   "codemirror_mode": {
    "name": "ipython",
    "version": 3
   },
   "file_extension": ".py",
   "mimetype": "text/x-python",
   "name": "python",
   "nbconvert_exporter": "python",
   "pygments_lexer": "ipython3",
   "version": "3.12.1"
  }
 },
 "nbformat": 4,
 "nbformat_minor": 5
}
